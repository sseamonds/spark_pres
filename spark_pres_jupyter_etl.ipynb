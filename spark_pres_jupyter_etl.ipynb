{
 "cells": [
  {
   "cell_type": "markdown",
   "metadata": {},
   "source": [
    "## With Spark 2.x one can work primarily through the SparkSession\n",
    "### which avoids need for managing SparkContext, SQLContext and HiveContext\n",
    "\n",
    "\n",
    "import org.apache.spark.sql.SparkSession<br><br>\n",
    "val sparkSession = SparkSession.builder().appName(\"Spark SQL basic example\").getOrCreate()<br><br>\n",
    "sparkSession.read.format(\"csv\").option(\"header\", \"true\").option(\"inferSchema\",<br> \"true\").load(\"raw_session_data_sample.csv\")"
   ]
  },
  {
   "cell_type": "code",
   "execution_count": 1,
   "metadata": {},
   "outputs": [
    {
     "data": {
      "text/plain": [
       "class org.apache.spark.SparkContext"
      ]
     },
     "execution_count": 1,
     "metadata": {},
     "output_type": "execute_result"
    }
   ],
   "source": [
    "// SparkContext typically already available in notebooks, we'll use it for this demo\n",
    "\n",
    "sc.getClass"
   ]
  },
  {
   "cell_type": "markdown",
   "metadata": {},
   "source": [
    "### Read raw data into a Dataset"
   ]
  },
  {
   "cell_type": "code",
   "execution_count": 2,
   "metadata": {},
   "outputs": [
    {
     "name": "stdout",
     "output_type": "stream",
     "text": [
      "+----------+-------+-----------+----------+\n",
      "|session_id|user_id|     action|product_id|\n",
      "+----------+-------+-----------+----------+\n",
      "|         1|      1|       view|    prod_1|\n",
      "|         1|      1|   cart_add|    prod_1|\n",
      "|         1|      1|cart_remove|    prod_1|\n",
      "|         1|      1|       view|    prod_2|\n",
      "|         1|      1|       view|    prod_3|\n",
      "|         1|      1|       view|    prod_4|\n",
      "|         1|      1|       view|    prod_2|\n",
      "|         2|      1|       view|    prod_5|\n",
      "|         2|      1|     search|      null|\n",
      "|         2|      1|       view|    prod_6|\n",
      "|         2|      1|     search|      null|\n",
      "|         2|      1|       view|    prod_2|\n",
      "|         3|      1|       view|    prod_5|\n",
      "|         3|      1|     search|      null|\n",
      "|         3|      1|   cart_add|    prod_2|\n",
      "|         3|      1|       view|    prod_8|\n",
      "|         3|      1|   purchase|    prod_2|\n",
      "+----------+-------+-----------+----------+\n",
      "\n"
     ]
    }
   ],
   "source": [
    "// SQLContext is a wrapper on SparkContext which allows sql-like operations\n",
    "val sqlContext = new org.apache.spark.sql.SQLContext(sc)\n",
    "\n",
    "// read raw session events from .csv as a Dataset\n",
    "val sessionsDS = sqlContext.read.format(\"csv\").option(\"header\", \"true\").option(\"inferSchema\", \"true\").load(\"raw_session_data_sample.csv\")\n",
    "\n",
    "sessionsDS.show"
   ]
  },
  {
   "cell_type": "markdown",
   "metadata": {},
   "source": [
    "### What the raw data should look like after featurization"
   ]
  },
  {
   "cell_type": "code",
   "execution_count": 3,
   "metadata": {},
   "outputs": [
    {
     "name": "stdout",
     "output_type": "stream",
     "text": [
      "+---------------+----------------------+------------+--------------+-----------------+-----------+\n",
      "|prod_view_count|unique_prod_view_count|search_count|cart_add_count|cart_remove_count|is_purchase|\n",
      "+---------------+----------------------+------------+--------------+-----------------+-----------+\n",
      "|              5|                     4|           0|             1|                1|          0|\n",
      "|              3|                     3|           2|             0|                0|          0|\n",
      "|              2|                     2|           1|             1|                0|          1|\n",
      "+---------------+----------------------+------------+--------------+-----------------+-----------+\n",
      "\n"
     ]
    }
   ],
   "source": [
    "val sessionsFeaturizedDS = sqlContext.read.format(\"csv\").option(\"header\", \"true\").option(\"inferSchema\", \"true\").load(\"raw_session_data_sample_featurized.csv\")\n",
    "\n",
    "sessionsFeaturizedDS.show()"
   ]
  },
  {
   "cell_type": "markdown",
   "metadata": {},
   "source": [
    "### Can view datatypes of columns"
   ]
  },
  {
   "cell_type": "code",
   "execution_count": 4,
   "metadata": {},
   "outputs": [
    {
     "name": "stdout",
     "output_type": "stream",
     "text": [
      "root\n",
      " |-- session_id: integer (nullable = true)\n",
      " |-- user_id: integer (nullable = true)\n",
      " |-- action: string (nullable = true)\n",
      " |-- product_id: string (nullable = true)\n",
      "\n"
     ]
    }
   ],
   "source": [
    "sessionsDS.printSchema"
   ]
  },
  {
   "cell_type": "markdown",
   "metadata": {},
   "source": [
    "## Featurization using RDD"
   ]
  },
  {
   "cell_type": "code",
   "execution_count": 20,
   "metadata": {},
   "outputs": [
    {
     "name": "stdout",
     "output_type": "stream",
     "text": [
      "(1,(view,prod_1))\n",
      "(1,(cart_add,prod_1))\n",
      "(1,(cart_remove,prod_1))\n",
      "(1,(view,prod_2))\n",
      "(1,(view,prod_3))\n",
      "(1,(view,prod_4))\n",
      "(1,(view,prod_2))\n",
      "(2,(view,prod_5))\n",
      "(2,(search,NA))\n",
      "(2,(view,prod_6))\n",
      "(2,(search,NA))\n",
      "(2,(view,prod_2))\n",
      "(3,(view,prod_5))\n",
      "(3,(search,NA))\n",
      "(3,(cart_add,prod_2))\n",
      "(3,(view,prod_8))\n",
      "(3,(purchase,prod_2))\n"
     ]
    }
   ],
   "source": [
    "// RDD's are NOT deprecated\n",
    "// RDD's are immutable\n",
    "// Lend themselves to unstructured/schemaless data\n",
    "\n",
    "// Get count of product views per session - RDD version \n",
    "\n",
    "val NA_STRING  = \"NA\"\n",
    "\n",
    "// Easy to switch from DS to RDD (and back)\n",
    "val sessionsRDD = sessionsDS.rdd\n",
    "\n",
    "// Rekey the session data in format : (session_id, (action, prod_id))\n",
    "val sessionsRDDKeyed = sessionsRDD.map(r => (r.getInt(r.fieldIndex(\"session_id\")), (r.getString(r.fieldIndex(\"action\")), Option(r.get(r.fieldIndex(\"product_id\"))).getOrElse(NA_STRING))))\n",
    "\n",
    "// foreach() allows to execute non-mutating operations on each item, such as println()\n",
    "sessionsRDDKeyed.collect.foreach(x => println(x))"
   ]
  },
  {
   "cell_type": "code",
   "execution_count": 6,
   "metadata": {},
   "outputs": [
    {
     "name": "stdout",
     "output_type": "stream",
     "text": [
      "(1,List((view,prod_1)))\n",
      "(1,List((cart_add,prod_1)))\n",
      "(1,List((cart_remove,prod_1)))\n",
      "(1,List((view,prod_2)))\n",
      "(1,List((view,prod_3)))\n",
      "(1,List((view,prod_4)))\n",
      "(1,List((view,prod_2)))\n",
      "(2,List((view,prod_5)))\n",
      "(2,List((search,NA)))\n",
      "(2,List((view,prod_6)))\n",
      "(2,List((search,NA)))\n",
      "(2,List((view,prod_2)))\n",
      "(3,List((view,prod_5)))\n",
      "(3,List((search,NA)))\n",
      "(3,List((cart_add,prod_2)))\n",
      "(3,List((view,prod_8)))\n",
      "(3,List((purchase,prod_2)))\n"
     ]
    }
   ],
   "source": [
    "// wrap (action, product) tuples in List\n",
    "\n",
    "val sessionsRDDKeyedWithList = sessionsRDDKeyed.map(x => (x._1, List(x._2)))\n",
    "\n",
    "sessionsRDDKeyedWithList.collect.foreach(x => println(x))"
   ]
  },
  {
   "cell_type": "code",
   "execution_count": 7,
   "metadata": {},
   "outputs": [
    {
     "name": "stdout",
     "output_type": "stream",
     "text": [
      "(1,List((view,prod_1), (cart_add,prod_1), (cart_remove,prod_1), (view,prod_2), (view,prod_3), (view,prod_4), (view,prod_2)))\n",
      "(3,List((view,prod_5), (search,NA), (cart_add,prod_2), (view,prod_8), (purchase,prod_2)))\n",
      "(2,List((view,prod_5), (search,NA), (view,prod_6), (search,NA), (view,prod_2)))\n"
     ]
    }
   ],
   "source": [
    "// append each List(Tuple)) object into a single list using reduceByKey\n",
    "\n",
    "val sessionsRDDReduced = sessionsRDDKeyedWithList.reduceByKey(_ ++ _)\n",
    "\n",
    "sessionsRDDReduced.collect.foreach(x => println(x))"
   ]
  },
  {
   "cell_type": "code",
   "execution_count": 8,
   "metadata": {
    "scrolled": true
   },
   "outputs": [
    {
     "name": "stdout",
     "output_type": "stream",
     "text": [
      "(1,List((view,prod_1), (view,prod_2), (view,prod_3), (view,prod_4), (view,prod_2)))\n",
      "(3,List((view,prod_5), (view,prod_8)))\n",
      "(2,List((view,prod_5), (view,prod_6), (view,prod_2)))\n"
     ]
    }
   ],
   "source": [
    "// get 'view' action tuples\n",
    "val sessionsRDDProductViews = sessionsRDDReduced.map(x => (x._1, x._2.filter(y => y._1 == \"view\")))\n",
    "\n",
    "sessionsRDDProductViews.collect.foreach(x => println(x))"
   ]
  },
  {
   "cell_type": "code",
   "execution_count": 9,
   "metadata": {},
   "outputs": [
    {
     "name": "stdout",
     "output_type": "stream",
     "text": [
      "(1,5)\n",
      "(3,2)\n",
      "(2,3)\n"
     ]
    }
   ],
   "source": [
    "// Count of product view by session\n",
    "\n",
    "val sessionIdWithProductViewCount = sessionsRDDProductViews.map(x => (x._1, x._2.size))\n",
    "\n",
    "sessionIdWithProductViewCount.collect.foreach(x => println(x))"
   ]
  },
  {
   "cell_type": "code",
   "execution_count": 10,
   "metadata": {},
   "outputs": [
    {
     "name": "stdout",
     "output_type": "stream",
     "text": [
      "(1,4)\n",
      "(3,2)\n",
      "(2,3)\n"
     ]
    }
   ],
   "source": [
    "// Count of UNIQUE product view by session\n",
    "\n",
    "val sessionIdWithUniqueProductViewCount = sessionsRDDProductViews.map(x => (x._1, x._2.map(y => y._2).distinct.size))\n",
    "\n",
    "sessionIdWithUniqueProductViewCount.collect.foreach(x => println(x))"
   ]
  },
  {
   "cell_type": "markdown",
   "metadata": {},
   "source": [
    "## Featurization using Datasets"
   ]
  },
  {
   "cell_type": "code",
   "execution_count": 12,
   "metadata": {},
   "outputs": [
    {
     "name": "stdout",
     "output_type": "stream",
     "text": [
      "+----------+---------------+\n",
      "|session_id|prod_view_count|\n",
      "+----------+---------------+\n",
      "|         1|              5|\n",
      "|         3|              2|\n",
      "|         2|              3|\n",
      "+----------+---------------+\n",
      "\n"
     ]
    }
   ],
   "source": [
    "// Dataframes are new with 1.3\n",
    "// Inspired by dataframe construct in R and python\n",
    "// Lacking in type safety\n",
    "\n",
    "// Datasets are new with 1.6, stable with 2.0\n",
    "// More type-safe, more errors caught at compile time than with DataFrame\n",
    "// More memory efficient than RDD\n",
    "// More sql-like syntax\n",
    "// Allows to refer to columns/fields by name\n",
    "\n",
    "// Get product view count (as above) using DS\n",
    "\n",
    "import sqlContext.implicits._\n",
    "\n",
    "var sessionWithProductViewCountDS = sessionsDS.filter($\"action\" === \"view\").groupBy(\"session_id\").count()\n",
    "sessionWithProductViewCountDS = sessionWithProductViewCountDS.withColumnRenamed(\"count\", \"prod_view_count\")\n",
    "\n",
    "sessionWithProductViewCountDS.show"
   ]
  },
  {
   "cell_type": "code",
   "execution_count": 13,
   "metadata": {},
   "outputs": [
    {
     "name": "stdout",
     "output_type": "stream",
     "text": [
      "+----------+---------------+\n",
      "|session_id|prod_view_count|\n",
      "+----------+---------------+\n",
      "|         1|              5|\n",
      "|         3|              2|\n",
      "|         2|              3|\n",
      "+----------+---------------+\n",
      "\n"
     ]
    }
   ],
   "source": [
    "// Can use sql\n",
    "\n",
    "// Register the DataFrame as a SQL temporary view\n",
    "sessionsDS.createOrReplaceTempView(\"sessions_table\")\n",
    "\n",
    "sqlContext.sql(\"SELECT session_id, count(*) as prod_view_count FROM sessions_table where action = 'view' group by session_id\").show"
   ]
  },
  {
   "cell_type": "code",
   "execution_count": 14,
   "metadata": {},
   "outputs": [
    {
     "name": "stdout",
     "output_type": "stream",
     "text": [
      "+-----------------+------------+\n",
      "|search_session_id|search_count|\n",
      "+-----------------+------------+\n",
      "|                3|           1|\n",
      "|                2|           2|\n",
      "+-----------------+------------+\n",
      "\n"
     ]
    }
   ],
   "source": [
    "// get number of searches per session\n",
    "\n",
    "var sessionWithSearchCountDS = sessionsDS.filter($\"action\" === \"search\").groupBy(\"session_id\").count()\n",
    "\n",
    "sessionWithSearchCountDS = sessionWithSearchCountDS.withColumnRenamed(\"session_id\", \"search_session_id\")\n",
    "sessionWithSearchCountDS = sessionWithSearchCountDS.withColumnRenamed(\"count\", \"search_count\")\n",
    "\n",
    "sessionWithSearchCountDS.show()"
   ]
  },
  {
   "cell_type": "code",
   "execution_count": 15,
   "metadata": {},
   "outputs": [
    {
     "name": "stdout",
     "output_type": "stream",
     "text": [
      "+----------+---------------+------------+\n",
      "|session_id|prod_view_count|search_count|\n",
      "+----------+---------------+------------+\n",
      "|         1|              5|           0|\n",
      "|         3|              2|           1|\n",
      "|         2|              3|           2|\n",
      "+----------+---------------+------------+\n",
      "\n"
     ]
    }
   ],
   "source": [
    "// can join Datasets\n",
    "\n",
    "var sessionsWithBothCountsDS = sessionWithProductViewCountDS.join(sessionWithSearchCountDS, sessionWithProductViewCountDS(\"session_id\") === sessionWithSearchCountDS(\"search_session_id\"), \"left_outer\")\n",
    "\n",
    "// did a left join so fill in defaults for missing values\n",
    "// since Datasets are immutable must reassign to a new DS\n",
    "val finalDS = sessionsWithBothCountsDS.na.fill(0)\n",
    "\n",
    "// drop duplicate col from join\n",
    "finalDS.drop(\"search_session_id\").show"
   ]
  },
  {
   "cell_type": "code",
   "execution_count": 16,
   "metadata": {},
   "outputs": [
    {
     "name": "stdout",
     "output_type": "stream",
     "text": [
      "+----------+-------+-----------+----------+-----------+\n",
      "|session_id|user_id|     action|product_id|is_purchase|\n",
      "+----------+-------+-----------+----------+-----------+\n",
      "|         1|      1|       view|    prod_1|          0|\n",
      "|         1|      1|   cart_add|    prod_1|          0|\n",
      "|         1|      1|cart_remove|    prod_1|          0|\n",
      "|         1|      1|       view|    prod_2|          0|\n",
      "|         1|      1|       view|    prod_3|          0|\n",
      "|         1|      1|       view|    prod_4|          0|\n",
      "|         1|      1|       view|    prod_2|          0|\n",
      "|         2|      1|       view|    prod_5|          0|\n",
      "|         2|      1|     search|      null|          0|\n",
      "|         2|      1|       view|    prod_6|          0|\n",
      "|         2|      1|     search|      null|          0|\n",
      "|         2|      1|       view|    prod_2|          0|\n",
      "|         3|      1|       view|    prod_5|          0|\n",
      "|         3|      1|     search|      null|          0|\n",
      "|         3|      1|   cart_add|    prod_2|          0|\n",
      "|         3|      1|       view|    prod_8|          0|\n",
      "|         3|      1|   purchase|    prod_2|          1|\n",
      "+----------+-------+-----------+----------+-----------+\n",
      "\n"
     ]
    }
   ],
   "source": [
    "// User Defined Functions can be applied to columns to derive new columns\n",
    "\n",
    "import org.apache.spark.sql.functions.udf\n",
    "\n",
    "def isPurchase(action: String) : Int = if (action.equals(\"purchase\")) 1 else 0\n",
    "\n",
    "// functional mapping from scala function to a UDF\n",
    "val isPurchaseUDF = udf((s: String) => isPurchase(s))\n",
    "\n",
    "var sessionWithIsPurchaseDS = sessionsDS.withColumn(\"is_purchase\", isPurchaseUDF($\"action\"))\n",
    "\n",
    "sessionWithIsPurchaseDS.show"
   ]
  },
  {
   "cell_type": "code",
   "execution_count": 18,
   "metadata": {},
   "outputs": [
    {
     "name": "stdout",
     "output_type": "stream",
     "text": [
      "+----------+-----------+\n",
      "|session_id|is_purchase|\n",
      "+----------+-----------+\n",
      "|         1|          0|\n",
      "|         3|          1|\n",
      "|         2|          0|\n",
      "+----------+-----------+\n",
      "\n"
     ]
    }
   ],
   "source": [
    "// Then use groupBy/max to assign the label (is_purchase) to the session\n",
    "\n",
    "import org.apache.spark.sql.functions.max\n",
    "\n",
    "sessionWithIsPurchaseDS.groupBy($\"session_id\").agg(max(\"is_purchase\").alias(\"is_purchase\")).show"
   ]
  },
  {
   "cell_type": "code",
   "execution_count": null,
   "metadata": {
    "collapsed": true
   },
   "outputs": [],
   "source": []
  }
 ],
 "metadata": {
  "kernelspec": {
   "display_name": "apache_toree - Scala",
   "language": "scala",
   "name": "apache_toree_scala"
  },
  "language_info": {
   "file_extension": ".scala",
   "name": "scala",
   "version": "2.11.8"
  }
 },
 "nbformat": 4,
 "nbformat_minor": 2
}
